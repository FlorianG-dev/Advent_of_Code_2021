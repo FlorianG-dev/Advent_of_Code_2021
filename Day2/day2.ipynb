{
 "cells": [
  {
   "cell_type": "code",
   "execution_count": 16,
   "metadata": {},
   "outputs": [],
   "source": [
    "### Author : Florian Guillot\n",
    "### Project : Advent of Code 2021, Day 2 \n",
    "### https://adventofcode.com/2021/day/2\n",
    "### 02/12/2021\n",
    "### title : Dive!"
   ]
  },
  {
   "cell_type": "code",
   "execution_count": 28,
   "metadata": {},
   "outputs": [],
   "source": [
    "# We read the file\n",
    "with open('input2.txt') as f:\n",
    "    lines = f.read().splitlines()"
   ]
  },
  {
   "cell_type": "markdown",
   "metadata": {},
   "source": [
    "## PART 1\n",
    "---"
   ]
  },
  {
   "cell_type": "code",
   "execution_count": 18,
   "metadata": {},
   "outputs": [],
   "source": [
    "# We create a function pilot that will operate the orders\n",
    "def pilot (direction,coord): #coord is the coordinate of the boat (horizontal,depth)\n",
    "    order = (direction.split()[0],int(direction.split()[1])) # a tuple with what to do and then and how much\n",
    "    match order[0]:\n",
    "        case 'forward':\n",
    "            return [coord[0] + order[1],coord[1]]\n",
    "        case 'down':\n",
    "            return [coord[0] ,coord[1] + order[1]]\n",
    "        case 'up':\n",
    "            return [coord[0] ,coord[1] - order[1]]"
   ]
  },
  {
   "cell_type": "code",
   "execution_count": 19,
   "metadata": {},
   "outputs": [
    {
     "data": {
      "text/plain": [
       "1746616"
      ]
     },
     "execution_count": 19,
     "metadata": {},
     "output_type": "execute_result"
    }
   ],
   "source": [
    "# We iterate over the file\n",
    "res=[0,0] #Initialization\n",
    "iter_lines= iter(lines)\n",
    "while True:\n",
    "    try:\n",
    "        # Iteration by calling next\n",
    "        item = next(iter_lines)\n",
    "        res=pilot(item,res)\n",
    "    except StopIteration:\n",
    "        # exception will happen when iteration will over\n",
    "        break\n",
    "res[0]*res[1]"
   ]
  },
  {
   "cell_type": "markdown",
   "metadata": {},
   "source": [
    "## PART 2\n",
    "---"
   ]
  },
  {
   "cell_type": "code",
   "execution_count": 26,
   "metadata": {},
   "outputs": [],
   "source": [
    "# We create an adapted function pilot2 \n",
    "def pilot2 (direction,coord): #coord is the coordinate of the boat (horizontal,depth,aim)\n",
    "    order = (direction.split()[0],int(direction.split()[1])) # a tuple with what to do and then and how much\n",
    "    match order[0]:\n",
    "        case 'forward':\n",
    "            return [coord[0] + order[1], \n",
    "                    coord[1] + coord[2]*order[1],\n",
    "                    coord[2]\n",
    "                    ]\n",
    "        case 'down':\n",
    "            return [\n",
    "                    coord[0],\n",
    "                    coord[1],\n",
    "                    coord[2] + order[1]\n",
    "                    ]\n",
    "        case 'up':\n",
    "            return [coord[0],\n",
    "                    coord[1],\n",
    "                    coord[2] - order[1]\n",
    "                    ]"
   ]
  },
  {
   "cell_type": "code",
   "execution_count": 29,
   "metadata": {},
   "outputs": [
    {
     "data": {
      "text/plain": [
       "1741971043"
      ]
     },
     "execution_count": 29,
     "metadata": {},
     "output_type": "execute_result"
    }
   ],
   "source": [
    "# We iterate over the file\n",
    "res2=[0,0,0] #Initialization\n",
    "iter_lines= iter(lines)\n",
    "while True:\n",
    "    try:\n",
    "        # Iteration by calling next\n",
    "        item = next(iter_lines)\n",
    "        res2=pilot2(item,res2)\n",
    "    except StopIteration:\n",
    "        # exception will happen when iteration will over\n",
    "        break\n",
    "res2[0]*res2[1]"
   ]
  }
 ],
 "metadata": {
  "interpreter": {
   "hash": "4700e6840e2fbc1fccbd4ae41e7869e5ffb8f4ca849982a3a12434fd36c3b02a"
  },
  "kernelspec": {
   "display_name": "Python 3.10.0 64-bit",
   "name": "python3"
  },
  "language_info": {
   "codemirror_mode": {
    "name": "ipython",
    "version": 3
   },
   "file_extension": ".py",
   "mimetype": "text/x-python",
   "name": "python",
   "nbconvert_exporter": "python",
   "pygments_lexer": "ipython3",
   "version": "3.10.0"
  },
  "orig_nbformat": 4
 },
 "nbformat": 4,
 "nbformat_minor": 2
}
