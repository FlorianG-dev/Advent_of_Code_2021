{
 "cells": [
  {
   "cell_type": "code",
   "execution_count": null,
   "metadata": {},
   "outputs": [],
   "source": [
    "### Author : Florian Guillot\n",
    "### Project : Advent of Code 2021, Day 6\n",
    "### https://adventofcode.com/2021/day/6\n",
    "### 06/12/2021\n",
    "### title : Lanternfish \n",
    "### This code can be used as you want, enjoy it (if you enjoy code in general, and this one, you know what I mean) "
   ]
  },
  {
   "cell_type": "markdown",
   "metadata": {},
   "source": [
    "## PART 1\n",
    "Brut solution, without optimisation"
   ]
  },
  {
   "cell_type": "code",
   "execution_count": 23,
   "metadata": {},
   "outputs": [
    {
     "data": {
      "text/plain": [
       "[3, 4, 3, 1, 2]"
      ]
     },
     "execution_count": 23,
     "metadata": {},
     "output_type": "execute_result"
    }
   ],
   "source": [
    "# We get the data\n",
    "with open('input6b.txt') as f: #Remove the \"b\" for the real exercise\n",
    "    fishes = list(map(int,f.readline().split(\",\")))\n",
    "fishes"
   ]
  },
  {
   "cell_type": "code",
   "execution_count": 1,
   "metadata": {},
   "outputs": [
    {
     "data": {
      "text/plain": [
       "362639"
      ]
     },
     "execution_count": 1,
     "metadata": {},
     "output_type": "execute_result"
    }
   ],
   "source": [
    "fishes=[]\n",
    "with open('input6.txt') as f: #Choose this line for the real exercise\n",
    "    fishes = list(map(int,f.readline().split(\",\")))\n",
    "fishes\n",
    "# Construct a function that will predict the fishes in X days\n",
    "def predict (fishes,days):\n",
    "    for day in range(1,days+1):\n",
    "        n=len(fishes)\n",
    "        for idx,fish in enumerate(fishes[:n]):\n",
    "            if fish == 0:\n",
    "                fishes[idx]=6\n",
    "                fishes.append(8)\n",
    "            else:\n",
    "                fishes[idx]-=1\n",
    "    return fishes\n",
    "len(predict(fishes,80))"
   ]
  },
  {
   "cell_type": "markdown",
   "metadata": {},
   "source": [
    "## PART2"
   ]
  },
  {
   "cell_type": "markdown",
   "metadata": {},
   "source": [
    "It is not possible to brut force the result, we will gather the fishes information in a sort of tab, without order"
   ]
  },
  {
   "cell_type": "code",
   "execution_count": 1,
   "metadata": {},
   "outputs": [],
   "source": [
    "def smart_predict (smart_fishes,days):\n",
    "    for day in range(1,days+1):\n",
    "        new_fishes = smart_fishes[0][1]\n",
    "        for i in range(8):\n",
    "            smart_fishes[i][1] = smart_fishes[i+1][1]\n",
    "        smart_fishes[8][1] = new_fishes\n",
    "        smart_fishes[6][1] += new_fishes\n",
    "    return sum([smart_fishes[i][1] for i in range(9)])"
   ]
  },
  {
   "cell_type": "code",
   "execution_count": 2,
   "metadata": {},
   "outputs": [
    {
     "data": {
      "text/plain": [
       "1639854996917"
      ]
     },
     "execution_count": 2,
     "metadata": {},
     "output_type": "execute_result"
    }
   ],
   "source": [
    "with open('input6.txt') as f: #Choose this line for the real exercise\n",
    "    fishes = list(map(int,f.readline().split(\",\")))\n",
    "smart_fishes = [[i,fishes.count(i)] for i in range(9)]\n",
    "smart_predict(smart_fishes,256)"
   ]
  },
  {
   "cell_type": "code",
   "execution_count": null,
   "metadata": {},
   "outputs": [],
   "source": []
  }
 ],
 "metadata": {
  "interpreter": {
   "hash": "d7fecb8dea0a9a09476f675d955a176cd84a6046386bc196f2b6c1a70e734d5f"
  },
  "kernelspec": {
   "display_name": "Python 3.10.0 64-bit",
   "language": "python",
   "name": "python3"
  },
  "language_info": {
   "codemirror_mode": {
    "name": "ipython",
    "version": 3
   },
   "file_extension": ".py",
   "mimetype": "text/x-python",
   "name": "python",
   "nbconvert_exporter": "python",
   "pygments_lexer": "ipython3",
   "version": "3.10.0"
  },
  "orig_nbformat": 4
 },
 "nbformat": 4,
 "nbformat_minor": 2
}
