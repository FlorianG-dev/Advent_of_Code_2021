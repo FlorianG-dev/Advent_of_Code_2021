{
 "cells": [
  {
   "cell_type": "code",
   "execution_count": null,
   "metadata": {},
   "outputs": [],
   "source": [
    "### Author : Florian Guillot\n",
    "### Project : Advent of Code 2021, Day 9\n",
    "### https://adventofcode.com/2021/day/9\n",
    "### 25/12/2021\n",
    "### title : Seven Segment Search\n",
    "### This code can be used as you want, enjoy it (if you enjoy code in general, and this one, you know what I mean) "
   ]
  }
 ],
 "metadata": {
  "language_info": {
   "name": "python"
  },
  "orig_nbformat": 4
 },
 "nbformat": 4,
 "nbformat_minor": 2
}
