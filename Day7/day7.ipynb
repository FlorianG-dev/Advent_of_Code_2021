{
 "cells": [
  {
   "cell_type": "code",
   "execution_count": null,
   "metadata": {},
   "outputs": [],
   "source": [
    "### Author : Florian Guillot\n",
    "### Project : Advent of Code 2021, Day 7\n",
    "### https://adventofcode.com/2021/day/7\n",
    "### 07/12/2021\n",
    "### title : The Treachery of Whales \n",
    "### This code can be used as you want, enjoy it (if you enjoy code in general, and this one, you know what I mean) "
   ]
  },
  {
   "cell_type": "markdown",
   "metadata": {},
   "source": [
    "## PART 1\n",
    "---\n",
    "Brut solution, without optimisation or mathematical consideration"
   ]
  },
  {
   "cell_type": "code",
   "execution_count": 48,
   "metadata": {},
   "outputs": [
    {
     "data": {
      "text/plain": [
       "[[0, 9], [1, 7], [2, 4], [3, 3], [4, 3]]"
      ]
     },
     "execution_count": 48,
     "metadata": {},
     "output_type": "execute_result"
    }
   ],
   "source": [
    "# We get the data\n",
    "with open('input7.txt') as f: #Remove the \"b\" for the real exercise\n",
    "    crabs = list(map(int,f.readline().split(\",\")))\n",
    "tab_crabs = [[i,crabs.count(i)] for i in range(max(crabs)+1) if crabs.count(i)!=0]\n",
    "tab_crabs[:5] #List of all the occupied positions with the count of crabs in it"
   ]
  },
  {
   "cell_type": "code",
   "execution_count": 20,
   "metadata": {},
   "outputs": [],
   "source": [
    "# A function calculating the cost if all the crabs move to a position \n",
    "def move_here(tab_crabs,position):\n",
    "    return sum([abs(crab[0]-position)*crab[1] for crab in tab_crabs ])"
   ]
  },
  {
   "cell_type": "code",
   "execution_count": 21,
   "metadata": {},
   "outputs": [
    {
     "data": {
      "text/plain": [
       "356922"
      ]
     },
     "execution_count": 21,
     "metadata": {},
     "output_type": "execute_result"
    }
   ],
   "source": [
    "# We search the cheapest solution, given the dataset\n",
    "result = min([move_here(tab_crabs,i) for i in range(len(tab_crabs))])\n",
    "result"
   ]
  },
  {
   "cell_type": "markdown",
   "metadata": {},
   "source": [
    "## PART 2\n",
    "---"
   ]
  },
  {
   "cell_type": "code",
   "execution_count": 49,
   "metadata": {},
   "outputs": [],
   "source": [
    "# We adapt the function, we use the arithmetic sequence formula with r=1 : S(u0->un) = (u0+un)(n+1)/2\n",
    "def move_here2(tab_crabs,position):\n",
    "    return sum([(abs(crab[0]-position))*(abs(crab[0]-position)+1)*crab[1]/2 for crab in tab_crabs ])"
   ]
  },
  {
   "cell_type": "code",
   "execution_count": 50,
   "metadata": {},
   "outputs": [
    {
     "data": {
      "text/plain": [
       "100347031.0"
      ]
     },
     "execution_count": 50,
     "metadata": {},
     "output_type": "execute_result"
    }
   ],
   "source": [
    "# We search the cheapest solution, given the dataset\n",
    "result = min([move_here2(tab_crabs,i) for i in range(len(tab_crabs))])\n",
    "result"
   ]
  }
 ],
 "metadata": {
  "interpreter": {
   "hash": "d7fecb8dea0a9a09476f675d955a176cd84a6046386bc196f2b6c1a70e734d5f"
  },
  "kernelspec": {
   "display_name": "Python 3.10.0 64-bit",
   "language": "python",
   "name": "python3"
  },
  "language_info": {
   "codemirror_mode": {
    "name": "ipython",
    "version": 3
   },
   "file_extension": ".py",
   "mimetype": "text/x-python",
   "name": "python",
   "nbconvert_exporter": "python",
   "pygments_lexer": "ipython3",
   "version": "3.10.0"
  },
  "orig_nbformat": 4
 },
 "nbformat": 4,
 "nbformat_minor": 2
}
