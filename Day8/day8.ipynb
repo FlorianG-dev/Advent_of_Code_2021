{
 "cells": [
  {
   "cell_type": "code",
   "execution_count": 63,
   "metadata": {},
   "outputs": [],
   "source": [
    "### Author : Florian Guillot\n",
    "### Project : Advent of Code 2021, Day 8\n",
    "### https://adventofcode.com/2021/day/8\n",
    "### 07/12/2021\n",
    "### title : Seven Segment Search\n",
    "### This code can be used as you want, enjoy it (if you enjoy code in general, and this one, you know what I mean) "
   ]
  },
  {
   "cell_type": "markdown",
   "metadata": {},
   "source": [
    "## PART 1\n",
    "---\n",
    "Brut solution, without optimisation or mathematical consideration"
   ]
  },
  {
   "cell_type": "code",
   "execution_count": 64,
   "metadata": {},
   "outputs": [],
   "source": [
    "# We build the key linking digits to segments. For that we build a list of dictionaries, each entry will be a key (a set with the right segments) and the the associated digit\n",
    "key = {\n",
    "    \"abcefg\":0,\n",
    "    \"cf\":1,\n",
    "    \"acdeg\":2,\n",
    "    \"acdfg\":3,\n",
    "    \"bcdf\":4,\n",
    "    \"abdfg\":5,\n",
    "    \"abdefg\":6,\n",
    "    \"acf\":7,\n",
    "    \"abcdefg\":8,\n",
    "    \"abcdfg\":9\n",
    "}\n"
   ]
  },
  {
   "cell_type": "code",
   "execution_count": 65,
   "metadata": {},
   "outputs": [
    {
     "data": {
      "text/plain": [
       "['fdgacbe',\n",
       " 'cefdb',\n",
       " 'cefbgd',\n",
       " 'gcbe',\n",
       " 'fcgedb',\n",
       " 'cgb',\n",
       " 'dgebacf',\n",
       " 'gc',\n",
       " 'cg',\n",
       " 'cg',\n",
       " 'fdcagb',\n",
       " 'cbg',\n",
       " 'efabcd',\n",
       " 'cedba',\n",
       " 'gadfec',\n",
       " 'cb',\n",
       " 'gecf',\n",
       " 'egdcabf',\n",
       " 'bgf',\n",
       " 'bfgea',\n",
       " 'gebdcfa',\n",
       " 'ecba',\n",
       " 'ca',\n",
       " 'fadegcb',\n",
       " 'cefg',\n",
       " 'dcbef',\n",
       " 'fcge',\n",
       " 'gbcadfe',\n",
       " 'ed',\n",
       " 'bcgafe',\n",
       " 'cdgba',\n",
       " 'cbgef',\n",
       " 'gbdfcae',\n",
       " 'bgc',\n",
       " 'cg',\n",
       " 'cgb',\n",
       " 'fgae',\n",
       " 'cfgab',\n",
       " 'fg',\n",
       " 'bagce']"
      ]
     },
     "execution_count": 65,
     "metadata": {},
     "output_type": "execute_result"
    }
   ],
   "source": [
    "# We get the data\n",
    "display = []\n",
    "with open('input8b.txt') as f: #Remove the \"b\" for the real exercise\n",
    "    for line in f: \n",
    "        display += line.split(\" | \")[1].replace(\"\\n\",\"\").split(\" \")\n",
    "display"
   ]
  },
  {
   "cell_type": "code",
   "execution_count": 66,
   "metadata": {},
   "outputs": [
    {
     "data": {
      "text/plain": [
       "26"
      ]
     },
     "execution_count": 66,
     "metadata": {},
     "output_type": "execute_result"
    }
   ],
   "source": [
    "# There are 2,3,4 and 7 letters for the number 1,4,7,8, we count the number of time words with this amount of letters ar used\n",
    "sum([ 1 if len(word)  in [2,3,4,7] else 0 for word in display])"
   ]
  },
  {
   "cell_type": "markdown",
   "metadata": {},
   "source": [
    "## PART 2\n",
    "---\n",
    "Build each number as you played with matches \"build a 1 with 5 matches\""
   ]
  },
  {
   "cell_type": "code",
   "execution_count": 67,
   "metadata": {},
   "outputs": [
    {
     "data": {
      "text/plain": [
       "(['bg',\n",
       "  'gcdaeb',\n",
       "  'aebg',\n",
       "  'efabdcg',\n",
       "  'abdce',\n",
       "  'cafdbe',\n",
       "  'fcbdeg',\n",
       "  'bdacg',\n",
       "  'gbd',\n",
       "  'cafgd'],\n",
       " ['daecb', 'dcbae', 'gb', 'eabg'])"
      ]
     },
     "execution_count": 67,
     "metadata": {},
     "output_type": "execute_result"
    }
   ],
   "source": [
    "# We get the data\n",
    "display = []\n",
    "with open('input8.txt') as f: #Remove the \"b\" for the real exercise\n",
    "    for line in f: \n",
    "        display += [ ( line.split(\" | \")[0].replace(\"\\n\",\"\").split(\" \"), line.split(\" | \")[1].replace(\"\\n\",\"\").split(\" \"))]\n",
    "display[0]"
   ]
  },
  {
   "cell_type": "markdown",
   "metadata": {},
   "source": [
    "We create a funciton that will create a decode-dic giving an entry\n",
    "\n",
    "---"
   ]
  },
  {
   "cell_type": "code",
   "execution_count": 68,
   "metadata": {},
   "outputs": [],
   "source": [
    "def buildthedic (entry):\n",
    "    key2={}\n",
    "    key2b = {} # the reverse dict, with the numbers as key\n",
    "\n",
    "    for elem in entry[0]:\n",
    "        match len(elem):\n",
    "            case 2: \n",
    "                key2[\"\".join(sorted(elem))] = 1\n",
    "                key2b[1] = set(elem)\n",
    "            case 4: \n",
    "                key2[\"\".join(sorted(elem))] = 4\n",
    "                key2b[4] = set(elem)            \n",
    "            case 3: \n",
    "                key2[\"\".join(sorted(elem))] = 7\n",
    "                key2b[7] = set(elem)\n",
    "            case 7: \n",
    "                key2[\"\".join(sorted(elem))] = 8\n",
    "                key2b[8] = set(elem)\n",
    "    \n",
    "    for elem in entry[0]:\n",
    "        if len(elem) == 5:\n",
    "            if key2b[1] & set(elem) == key2b[1]: # We use the fact that when we draw the numbers, we see \"1\" is in \"3\", it's the right branch\n",
    "                key2[\"\".join(sorted(elem))] = 3\n",
    "                key2b[3] = set(elem)\n",
    "            if len(set(elem) & key2b[4]) == 2:\n",
    "                key2[\"\".join(sorted(elem))] = 2\n",
    "                key2b[2] = set(elem)\n",
    "            if (len(set(elem) & key2b[4]) == 3) & (key2b[1] & set(elem) != key2b[1]):\n",
    "                key2[\"\".join(sorted(elem))] = 5\n",
    "                key2b[5] = set(elem)\n",
    "\n",
    "    for elem in entry[0]:\n",
    "        match len(elem):\n",
    "            case 6:\n",
    "                if key2b[3] | key2b[4] == set(elem): # We use the fact that when we draw the numbers, superpose 3 and 4 will give a 9 \n",
    "                    key2[\"\".join(sorted(elem))] = 9\n",
    "                    key2b[9] = set(elem)\n",
    "                if key2b[1]  & set(elem) != key2b[1]:\n",
    "                    key2[\"\".join(sorted(elem))] = 6\n",
    "                    key2b[6] = set(elem)\n",
    "                if len( set(elem) & ((key2b[1]) | (key2b[8]-key2b[3])) ) == 4:\n",
    "                    key2[\"\".join(sorted(elem))] = 0\n",
    "                    key2b[0] = set(elem)\n",
    "                    \n",
    "    return key2"
   ]
  },
  {
   "cell_type": "code",
   "execution_count": 69,
   "metadata": {},
   "outputs": [],
   "source": [
    "# Giving a dic, a function giving the four digits of the output value decoded: \n",
    "def decode (key,mylist):\n",
    "    return int(\"\".join([str(key[\"\".join(sorted(value))]) for value in mylist]))"
   ]
  },
  {
   "cell_type": "code",
   "execution_count": 70,
   "metadata": {},
   "outputs": [
    {
     "name": "stdout",
     "output_type": "stream",
     "text": [
      "The result is 998900\n"
     ]
    }
   ],
   "source": [
    "res=0\n",
    "for entry in display:\n",
    "    res +=decode (buildthedic(entry),entry[1])\n",
    "print(\"The result is\",res)"
   ]
  },
  {
   "cell_type": "code",
   "execution_count": null,
   "metadata": {},
   "outputs": [],
   "source": []
  }
 ],
 "metadata": {
  "interpreter": {
   "hash": "4700e6840e2fbc1fccbd4ae41e7869e5ffb8f4ca849982a3a12434fd36c3b02a"
  },
  "kernelspec": {
   "display_name": "Python 3.10.0 64-bit",
   "language": "python",
   "name": "python3"
  },
  "language_info": {
   "codemirror_mode": {
    "name": "ipython",
    "version": 3
   },
   "file_extension": ".py",
   "mimetype": "text/x-python",
   "name": "python",
   "nbconvert_exporter": "python",
   "pygments_lexer": "ipython3",
   "version": "3.10.0"
  },
  "orig_nbformat": 4
 },
 "nbformat": 4,
 "nbformat_minor": 2
}
