{
 "cells": [
  {
   "cell_type": "code",
   "execution_count": 26,
   "metadata": {},
   "outputs": [],
   "source": [
    "### Author : Florian Guillot\n",
    "### Project : Advent of Code 2021, Day 5\n",
    "### https://adventofcode.com/2021/day/5\n",
    "### 05/12/2021\n",
    "### title : Hydrothermal Venture\n",
    "### This code can be used as you want, enjoy it (if you enjoy code in general, and this one, you know what I mean) "
   ]
  },
  {
   "cell_type": "code",
   "execution_count": 44,
   "metadata": {},
   "outputs": [],
   "source": [
    "import pandas as pd\n",
    "import numpy as np\n",
    "vents =np.zeros((1,1))"
   ]
  },
  {
   "cell_type": "markdown",
   "metadata": {},
   "source": [
    "## PART 1\n",
    "---"
   ]
  },
  {
   "cell_type": "code",
   "execution_count": 45,
   "metadata": {},
   "outputs": [],
   "source": [
    "\n",
    "# We read the file\n",
    "with open('input5b.txt') as f: #Choose this line for the real exercise\n",
    "    for line in f:\n",
    "        ymax,xmax = vents.shape\n",
    "        x1,y1,x2,y2  = map(int,','.join(line.split(\" -> \")).split(\",\"))\n",
    "    \n",
    "        #If we need to augment the vents\n",
    "        if max(x1,x2)+1 > xmax or max(y1,y2)+1 > ymax:\n",
    "            shape = np.shape(vents)\n",
    "            padded_array = np.zeros((max(max(y1,y2)+1,ymax),max(max(x1,x2)+1,xmax)))\n",
    "            padded_array[:shape[0],:shape[1]] = vents\n",
    "            vents = padded_array\n",
    "        \n",
    "        #Add the different travels with +1 when we travel through a point\n",
    "        if x1==x2:\n",
    "            \n",
    "            for y in range(min(y1,y2),max(y1,y2)+1):\n",
    "                vents[y,x1]+=1\n",
    "        if y1==y2:\n",
    "            for x in range(min(x1,x2),max(x1,x2)+1):\n",
    "                vents[y1,x]+=1"
   ]
  },
  {
   "cell_type": "code",
   "execution_count": 43,
   "metadata": {},
   "outputs": [
    {
     "data": {
      "text/plain": [
       "7085"
      ]
     },
     "execution_count": 43,
     "metadata": {},
     "output_type": "execute_result"
    }
   ],
   "source": [
    "# Looping over the array and finding when elem >=2\n",
    "count=0\n",
    "for elem in np.nditer(vents):\n",
    "    if elem>=2: count +=1\n",
    "count"
   ]
  },
  {
   "cell_type": "markdown",
   "metadata": {},
   "source": [
    "## PART 2\n",
    "---"
   ]
  },
  {
   "cell_type": "code",
   "execution_count": 54,
   "metadata": {},
   "outputs": [],
   "source": [
    "def drawline(x1, y1, x2, y2):\n",
    "    points = []\n",
    "    lx, ly = abs(x2 - x1), abs(y2 - y1)\n",
    "    l = max(lx, ly)\n",
    "    for i in range(l + 1):\n",
    "        x = x1 + round((x2 - x1) / l * i)\n",
    "        y = y1 + round((y2 - y1) / l * i)\n",
    "        points.append((x, y))\n",
    "    return points"
   ]
  },
  {
   "cell_type": "code",
   "execution_count": 55,
   "metadata": {},
   "outputs": [],
   "source": [
    "vents =np.zeros((1,1))\n",
    "# We read the file\n",
    "with open('input5.txt') as f: # Choose this line for the real exercise\n",
    "    for line in f:\n",
    "        ymax,xmax = vents.shape\n",
    "        x1,y1,x2,y2  = map(int,','.join(line.split(\" -> \")).split(\",\"))\n",
    "    \n",
    "        # If we need to augment the vents\n",
    "        if max(x1,x2)+1 > xmax or max(y1,y2)+1 > ymax:\n",
    "            shape = np.shape(vents)\n",
    "            padded_array = np.zeros((max(max(y1,y2)+1,ymax),max(max(x1,x2)+1,xmax)))\n",
    "            padded_array[:shape[0],:shape[1]] = vents\n",
    "            vents = padded_array\n",
    "        \n",
    "        # Add the different travels with +1 when we travel through a point\n",
    "        for elem in drawline(x1,y1,x2,y2):\n",
    "            vents[elem[1],elem[0]]+=1\n",
    "            "
   ]
  },
  {
   "cell_type": "code",
   "execution_count": 56,
   "metadata": {},
   "outputs": [
    {
     "data": {
      "text/plain": [
       "20271"
      ]
     },
     "execution_count": 56,
     "metadata": {},
     "output_type": "execute_result"
    }
   ],
   "source": [
    "# Looping over the array and finding when elem >=2\n",
    "count=0\n",
    "for elem in np.nditer(vents):\n",
    "    if elem>=2: count +=1\n",
    "count"
   ]
  }
 ],
 "metadata": {
  "interpreter": {
   "hash": "d7fecb8dea0a9a09476f675d955a176cd84a6046386bc196f2b6c1a70e734d5f"
  },
  "kernelspec": {
   "display_name": "Python 3.10.0 64-bit",
   "language": "python",
   "name": "python3"
  },
  "language_info": {
   "codemirror_mode": {
    "name": "ipython",
    "version": 3
   },
   "file_extension": ".py",
   "mimetype": "text/x-python",
   "name": "python",
   "nbconvert_exporter": "python",
   "pygments_lexer": "ipython3",
   "version": "3.10.0"
  },
  "orig_nbformat": 4
 },
 "nbformat": 4,
 "nbformat_minor": 2
}
