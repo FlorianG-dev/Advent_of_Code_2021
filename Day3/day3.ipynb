{
 "cells": [
  {
   "cell_type": "code",
   "execution_count": 75,
   "metadata": {},
   "outputs": [],
   "source": [
    "### Author : Florian Guillot\n",
    "### Project : Advent of Code 2021, Day 3\n",
    "### https://adventofcode.com/2021/day/3\n",
    "### 03/12/2021\n",
    "### title : Binary Diagnostic "
   ]
  },
  {
   "cell_type": "code",
   "execution_count": 76,
   "metadata": {},
   "outputs": [],
   "source": [
    "# Needed module\n",
    "import pandas as pd"
   ]
  },
  {
   "cell_type": "code",
   "execution_count": 168,
   "metadata": {},
   "outputs": [
    {
     "data": {
      "text/html": [
       "<div>\n",
       "<style scoped>\n",
       "    .dataframe tbody tr th:only-of-type {\n",
       "        vertical-align: middle;\n",
       "    }\n",
       "\n",
       "    .dataframe tbody tr th {\n",
       "        vertical-align: top;\n",
       "    }\n",
       "\n",
       "    .dataframe thead th {\n",
       "        text-align: right;\n",
       "    }\n",
       "</style>\n",
       "<table border=\"1\" class=\"dataframe\">\n",
       "  <thead>\n",
       "    <tr style=\"text-align: right;\">\n",
       "      <th></th>\n",
       "      <th>a</th>\n",
       "      <th>b</th>\n",
       "      <th>c</th>\n",
       "      <th>d</th>\n",
       "      <th>e</th>\n",
       "      <th>f</th>\n",
       "      <th>g</th>\n",
       "      <th>h</th>\n",
       "      <th>i</th>\n",
       "      <th>j</th>\n",
       "      <th>k</th>\n",
       "      <th>l</th>\n",
       "    </tr>\n",
       "  </thead>\n",
       "  <tbody>\n",
       "    <tr>\n",
       "      <th>0</th>\n",
       "      <td>1</td>\n",
       "      <td>0</td>\n",
       "      <td>1</td>\n",
       "      <td>1</td>\n",
       "      <td>1</td>\n",
       "      <td>1</td>\n",
       "      <td>1</td>\n",
       "      <td>0</td>\n",
       "      <td>1</td>\n",
       "      <td>0</td>\n",
       "      <td>0</td>\n",
       "      <td>0</td>\n",
       "    </tr>\n",
       "    <tr>\n",
       "      <th>1</th>\n",
       "      <td>1</td>\n",
       "      <td>1</td>\n",
       "      <td>0</td>\n",
       "      <td>1</td>\n",
       "      <td>1</td>\n",
       "      <td>0</td>\n",
       "      <td>0</td>\n",
       "      <td>1</td>\n",
       "      <td>1</td>\n",
       "      <td>1</td>\n",
       "      <td>0</td>\n",
       "      <td>0</td>\n",
       "    </tr>\n",
       "    <tr>\n",
       "      <th>2</th>\n",
       "      <td>0</td>\n",
       "      <td>1</td>\n",
       "      <td>0</td>\n",
       "      <td>1</td>\n",
       "      <td>1</td>\n",
       "      <td>1</td>\n",
       "      <td>1</td>\n",
       "      <td>1</td>\n",
       "      <td>1</td>\n",
       "      <td>0</td>\n",
       "      <td>0</td>\n",
       "      <td>0</td>\n",
       "    </tr>\n",
       "    <tr>\n",
       "      <th>3</th>\n",
       "      <td>0</td>\n",
       "      <td>1</td>\n",
       "      <td>0</td>\n",
       "      <td>1</td>\n",
       "      <td>0</td>\n",
       "      <td>1</td>\n",
       "      <td>0</td>\n",
       "      <td>0</td>\n",
       "      <td>0</td>\n",
       "      <td>0</td>\n",
       "      <td>0</td>\n",
       "      <td>1</td>\n",
       "    </tr>\n",
       "    <tr>\n",
       "      <th>4</th>\n",
       "      <td>0</td>\n",
       "      <td>1</td>\n",
       "      <td>1</td>\n",
       "      <td>0</td>\n",
       "      <td>0</td>\n",
       "      <td>0</td>\n",
       "      <td>0</td>\n",
       "      <td>0</td>\n",
       "      <td>0</td>\n",
       "      <td>0</td>\n",
       "      <td>0</td>\n",
       "      <td>1</td>\n",
       "    </tr>\n",
       "  </tbody>\n",
       "</table>\n",
       "</div>"
      ],
      "text/plain": [
       "   a  b  c  d  e  f  g  h  i  j  k  l\n",
       "0  1  0  1  1  1  1  1  0  1  0  0  0\n",
       "1  1  1  0  1  1  0  0  1  1  1  0  0\n",
       "2  0  1  0  1  1  1  1  1  1  0  0  0\n",
       "3  0  1  0  1  0  1  0  0  0  0  0  1\n",
       "4  0  1  1  0  0  0  0  0  0  0  0  1"
      ]
     },
     "execution_count": 168,
     "metadata": {},
     "output_type": "execute_result"
    }
   ],
   "source": [
    "# We read the file\n",
    "with open('input3.txt') as f:\n",
    "    lines = f.read().splitlines()\n",
    "# And create the dataframe\n",
    "df = pd.DataFrame([[bit for bit in iter(line)] for line in lines],columns=[\"a\",\"b\",\"c\",\"d\",\"e\",\"f\",\"g\",\"h\",\"i\",\"j\",\"k\",\"l\"])\n",
    "df.head()"
   ]
  },
  {
   "cell_type": "markdown",
   "metadata": {},
   "source": [
    "PART 1"
   ]
  },
  {
   "cell_type": "code",
   "execution_count": 169,
   "metadata": {},
   "outputs": [
    {
     "data": {
      "text/plain": [
       "284"
      ]
     },
     "execution_count": 169,
     "metadata": {},
     "output_type": "execute_result"
    }
   ],
   "source": [
    "# The gamma rate is th result of the most common bit for each column\n",
    "gamma_rate = int( ''.join([df[col].mode()[0] for col in df.columns]) ,2)\n",
    "gamma_rate"
   ]
  },
  {
   "cell_type": "code",
   "execution_count": 170,
   "metadata": {},
   "outputs": [
    {
     "data": {
      "text/plain": [
       "3811"
      ]
     },
     "execution_count": 170,
     "metadata": {},
     "output_type": "execute_result"
    }
   ],
   "source": [
    "# The epsilon rate is the result of the least common bit for each column, we use the fact that the opposite bit is abs(bit-1), for example 1 = abs(0-1) and 0 = abs(1-1)\n",
    "epsilon_rate = int( ''.join([str(abs(int(df[col].mode()[0])-1)) for col in df.columns]) ,2)\n",
    "epsilon_rate"
   ]
  },
  {
   "cell_type": "code",
   "execution_count": 171,
   "metadata": {},
   "outputs": [
    {
     "data": {
      "text/plain": [
       "1082324"
      ]
     },
     "execution_count": 171,
     "metadata": {},
     "output_type": "execute_result"
    }
   ],
   "source": [
    "#Final result is the multiplication of the gamma and epsilon rates\n",
    "gamma_rate*epsilon_rate"
   ]
  },
  {
   "cell_type": "markdown",
   "metadata": {},
   "source": [
    "PART 2"
   ]
  },
  {
   "cell_type": "code",
   "execution_count": 172,
   "metadata": {},
   "outputs": [
    {
     "data": {
      "text/plain": [
       "486"
      ]
     },
     "execution_count": 172,
     "metadata": {},
     "output_type": "execute_result"
    }
   ],
   "source": [
    "# We find the bit criteria for the oxygen\n",
    "crit_ox = df.copy()\n",
    "while len(crit_ox)>1:\n",
    "    for col in crit_ox.columns:\n",
    "        if len(crit_ox[col].mode())==2: #Case if the repartition is equal\n",
    "            crit_ox = crit_ox[crit_ox[col]==\"1\"]\n",
    "        else:\n",
    "            crit_ox = crit_ox[crit_ox[col]==str(crit_ox[col].mode()[0])]\n",
    "crit_ox = int(''.join(list(crit_ox.values[0])),2)\n",
    "crit_ox"
   ]
  },
  {
   "cell_type": "code",
   "execution_count": 173,
   "metadata": {},
   "outputs": [
    {
     "data": {
      "text/plain": [
       "2784"
      ]
     },
     "execution_count": 173,
     "metadata": {},
     "output_type": "execute_result"
    }
   ],
   "source": [
    "# We find the bit criteria for the CO2\n",
    "crit_co2 = df.copy()\n",
    "while len(crit_co2)>1:\n",
    "    for col in crit_co2.columns:\n",
    "        if len(crit_co2)==1:\n",
    "            break\n",
    "        if len(crit_co2[col].mode())==2: #Case if the repartition is equal\n",
    "            crit_co2 = crit_co2[crit_co2[col]==\"0\"]\n",
    "        else:\n",
    "            crit_co2 = crit_co2[crit_co2[col]!=str(crit_co2[col].mode()[0])]\n",
    "crit_co2 = int(''.join(list(crit_co2.values[0])),2)\n",
    "crit_co2"
   ]
  },
  {
   "cell_type": "code",
   "execution_count": 174,
   "metadata": {},
   "outputs": [
    {
     "data": {
      "text/plain": [
       "'\\ntest cell\\n-\\ntest = [\"00100\",\"11110\",\"10110\",\"10111\",\"10101\",\"01111\",\"00111\",\"11100\",\"10000\",\"11001\",\"00010\",\"01010\"]\\ndftestraw = pd.DataFrame([[bit for bit in iter(line)] for line in test],columns=[\"a\",\"b\",\"c\",\"d\",\"e\"])\\ndftestraw.head()\\n'"
      ]
     },
     "execution_count": 174,
     "metadata": {},
     "output_type": "execute_result"
    }
   ],
   "source": [
    "'''\n",
    "test cell\n",
    "-\n",
    "test = [\"00100\",\"11110\",\"10110\",\"10111\",\"10101\",\"01111\",\"00111\",\"11100\",\"10000\",\"11001\",\"00010\",\"01010\"]\n",
    "dftestraw = pd.DataFrame([[bit for bit in iter(line)] for line in test],columns=[\"a\",\"b\",\"c\",\"d\",\"e\"])\n",
    "dftestraw.head()\n",
    "'''"
   ]
  },
  {
   "cell_type": "code",
   "execution_count": 175,
   "metadata": {},
   "outputs": [
    {
     "data": {
      "text/plain": [
       "1353024"
      ]
     },
     "execution_count": 175,
     "metadata": {},
     "output_type": "execute_result"
    }
   ],
   "source": [
    "#result\n",
    "crit_ox*crit_co2"
   ]
  },
  {
   "cell_type": "code",
   "execution_count": null,
   "metadata": {},
   "outputs": [],
   "source": []
  }
 ],
 "metadata": {
  "interpreter": {
   "hash": "d7fecb8dea0a9a09476f675d955a176cd84a6046386bc196f2b6c1a70e734d5f"
  },
  "kernelspec": {
   "display_name": "Python 3.10.0 64-bit",
   "language": "python",
   "name": "python3"
  },
  "language_info": {
   "codemirror_mode": {
    "name": "ipython",
    "version": 3
   },
   "file_extension": ".py",
   "mimetype": "text/x-python",
   "name": "python",
   "nbconvert_exporter": "python",
   "pygments_lexer": "ipython3",
   "version": "3.10.0"
  },
  "orig_nbformat": 4
 },
 "nbformat": 4,
 "nbformat_minor": 2
}
