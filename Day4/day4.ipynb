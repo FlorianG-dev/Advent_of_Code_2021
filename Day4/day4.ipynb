{
 "cells": [
  {
   "cell_type": "code",
   "execution_count": 184,
   "metadata": {},
   "outputs": [],
   "source": [
    "### Author : Florian Guillot\n",
    "### Project : Advent of Code 2021, Day 4\n",
    "### https://adventofcode.com/2021/day/4\n",
    "### 04/12/2021\n",
    "### title : Giant Squid\n",
    "### This code can be used as you want, enjoy it (if you enjoy code in general, and this one, you know what I mean) "
   ]
  },
  {
   "cell_type": "markdown",
   "metadata": {},
   "source": [
    "## Classical imports\n",
    "---"
   ]
  },
  {
   "cell_type": "code",
   "execution_count": 185,
   "metadata": {},
   "outputs": [],
   "source": [
    "import pandas as pd\n",
    "import numpy as np\n",
    "dim = 5 #(dimension of the bingo grids)"
   ]
  },
  {
   "cell_type": "markdown",
   "metadata": {},
   "source": [
    "## Read the file and arrange the data\n",
    "---"
   ]
  },
  {
   "cell_type": "code",
   "execution_count": 199,
   "metadata": {},
   "outputs": [
    {
     "name": "stdout",
     "output_type": "stream",
     "text": [
      "Numbers : [7, 4, 9, 5, 11, 17, 23, 2, 0, 14, 21, 24, 10, 16, 13, 6, 15, 25, 12, 22, 18, 20, 8, 19, 3, 26, 1]\n",
      "First non-empty line 22 13 17 11  0\n"
     ]
    }
   ],
   "source": [
    "# We read the file\n",
    "with open('input4b.txt') as f: # Choose this line for tests, using data given in the example\n",
    "#with open('input4b.txt') as f: #Choose this line for the real exercise\n",
    "    numbers = list(map(int,  f.readline().replace(\"\\n\",\"\").split(\",\"))) #the first line given, transformed in a list of the characters\n",
    "    lines = f.read().splitlines() # For now the other lines will be put in a list of characters, one element per line\n",
    "print(\"Numbers :\", numbers)\n",
    "print(\"First non-empty line\", lines[1])"
   ]
  },
  {
   "cell_type": "code",
   "execution_count": 203,
   "metadata": {},
   "outputs": [
    {
     "name": "stdout",
     "output_type": "stream",
     "text": [
      "The first grid:\n",
      " [[22 13 17 11  0]\n",
      " [ 8  2 23  4 24]\n",
      " [21  9 14 16  7]\n",
      " [ 6 10  3 18  5]\n",
      " [ 1 12 20 15 19]]\n"
     ]
    }
   ],
   "source": [
    "# We clean the input from char to integers and create a list of np.array, each array is a bingo grid\n",
    "grids=[]\n",
    "for index,line in enumerate(lines):\n",
    "    if line ==\"\": # For each empty line, we know the 5 next will be a new grid 5x5\n",
    "        grids.append(np.array(pd.DataFrame([lines[index+i].split() for i in range(1,6)]).astype((int))))\n",
    "print(\"The first grid:\\n\", grids[0])\n"
   ]
  },
  {
   "cell_type": "code",
   "execution_count": 204,
   "metadata": {},
   "outputs": [
    {
     "name": "stdout",
     "output_type": "stream",
     "text": [
      "The first grid:\n",
      " [[[22.  0.]\n",
      "  [13.  0.]\n",
      "  [17.  0.]\n",
      "  [11.  0.]\n",
      "  [ 0.  0.]]\n",
      "\n",
      " [[ 8.  0.]\n",
      "  [ 2.  0.]\n",
      "  [23.  0.]\n",
      "  [ 4.  0.]\n",
      "  [24.  0.]]\n",
      "\n",
      " [[21.  0.]\n",
      "  [ 9.  0.]\n",
      "  [14.  0.]\n",
      "  [16.  0.]\n",
      "  [ 7.  0.]]\n",
      "\n",
      " [[ 6.  0.]\n",
      "  [10.  0.]\n",
      "  [ 3.  0.]\n",
      "  [18.  0.]\n",
      "  [ 5.  0.]]\n",
      "\n",
      " [[ 1.  0.]\n",
      "  [12.  0.]\n",
      "  [20.  0.]\n",
      "  [15.  0.]\n",
      "  [19.  0.]]]\n"
     ]
    }
   ],
   "source": [
    "# We add a 3rd dimension to the grids, filled with only 0 for now, for each grid ( to check if the number has been out. If the number in the grid is checked, then 1 will replace 0)\n",
    "ngrids=[] #The new 3 dimension grids\n",
    "for grid in grids:\n",
    "    ngrids.append(np.dstack((grid.reshape(5,5,1), np.zeros((5,5)))))\n",
    "print('The first grid:\\n', ngrids[0])"
   ]
  },
  {
   "cell_type": "markdown",
   "metadata": {},
   "source": [
    "## Function to verifie if a grid (array (5,5,2)) verifies the winning condition \n",
    "---\n",
    "Winning condition : A column or line with all the numbers checked. In our code it means that in the third dimension, we will have only \"1\""
   ]
  },
  {
   "cell_type": "code",
   "execution_count": 205,
   "metadata": {},
   "outputs": [],
   "source": [
    "# We create a function that verifies if the grid meets the win condition\n",
    "def win(grid): #grid is a (5,5,2) numpy array\n",
    "    for i in range(5): # Verification for all the lines and columns, 5 of each\n",
    "        if np.sum(grid[:,:,1], axis=1)[i]==dim or np.sum(grid[:,:,1], axis=0)[i]==dim: # If in a line or column of a grid, addition of the third dimension is 5, it means we will have only 1, it means all the numbers are checked : winning condition ! \n",
    "            res = np.sum(np.multiply((grid[:,:,1]-1)*(-1), grid[:,:,0])) #We use that for binary condition (0 or 1) not x = (x-1)*(-1). Res is the addition of all the unchecked numbers, so checked number mutiplied by zero wii be zero\n",
    "            return (True,res,grid)\n",
    "        else:\n",
    "            return (False,\"no result\")"
   ]
  },
  {
   "cell_type": "markdown",
   "metadata": {},
   "source": [
    "## Loop over the data and play the bingo game ! \n",
    "---"
   ]
  },
  {
   "cell_type": "code",
   "execution_count": 190,
   "metadata": {},
   "outputs": [
    {
     "name": "stdout",
     "output_type": "stream",
     "text": [
      "test for number 7\n",
      "test for grid 0\n",
      "test for grid 1\n",
      "test for grid 2\n",
      "test for number 4\n",
      "test for grid 0\n",
      "test for grid 1\n",
      "test for grid 2\n",
      "test for number 9\n",
      "test for grid 0\n",
      "test for grid 1\n",
      "test for grid 2\n",
      "test for number 5\n",
      "test for grid 0\n",
      "test for grid 1\n",
      "test for grid 2\n",
      "test for number 11\n",
      "test for grid 0\n",
      "test for grid 1\n",
      "test for grid 2\n",
      "test for number 17\n",
      "test for grid 0\n",
      "test for grid 1\n",
      "test for grid 2\n",
      "test for number 23\n",
      "test for grid 0\n",
      "test for grid 1\n",
      "test for grid 2\n",
      "test for number 2\n",
      "test for grid 0\n",
      "test for grid 1\n",
      "test for grid 2\n",
      "test for number 0\n",
      "test for grid 0\n",
      "test for grid 1\n",
      "test for grid 2\n",
      "test for number 14\n",
      "test for grid 0\n",
      "test for grid 1\n",
      "test for grid 2\n",
      "test for number 21\n",
      "test for grid 0\n",
      "test for grid 1\n",
      "test for grid 2\n",
      "test for number 24\n",
      "test for grid 0\n",
      "test for grid 1\n",
      "test for grid 2\n",
      "the result is 4512.0 with the grid [[[14.  1.]\n",
      "  [21.  1.]\n",
      "  [17.  1.]\n",
      "  [24.  1.]\n",
      "  [ 4.  1.]]\n",
      "\n",
      " [[10.  0.]\n",
      "  [16.  0.]\n",
      "  [15.  0.]\n",
      "  [ 9.  1.]\n",
      "  [19.  0.]]\n",
      "\n",
      " [[18.  0.]\n",
      "  [ 8.  0.]\n",
      "  [23.  1.]\n",
      "  [26.  0.]\n",
      "  [20.  0.]]\n",
      "\n",
      " [[22.  0.]\n",
      "  [11.  1.]\n",
      "  [13.  0.]\n",
      "  [ 6.  0.]\n",
      "  [ 5.  1.]]\n",
      "\n",
      " [[ 2.  1.]\n",
      "  [ 0.  1.]\n",
      "  [12.  0.]\n",
      "  [ 3.  0.]\n",
      "  [ 7.  1.]]]\n"
     ]
    }
   ],
   "source": [
    "test_continue =True # boolean condition, will be True when a winning condition appears\n",
    "for number in numbers: # Loop over the random numbers given through the game\n",
    "    if not test_continue: break\n",
    "    print(\"test for number\", number) \n",
    "    for grid_number,grid in enumerate(ngrids): # Then we loop over the grids\n",
    "        if not test_continue: break\n",
    "        print(\"test for grid\", grid_number)\n",
    "        for (x,y) ,value in np.ndenumerate(grid[:,:,0]): # For each grid we loop over the numbers\n",
    "            if not test_continue: break\n",
    "            if value==number: # If the number in the grid is the same than the number announced:\n",
    "                ngrids[grid_number][x,y,1]=1 # We check it in the third dimension\n",
    "                if win(grid)[0]: # We verify immediately the winning conditions\n",
    "                    print(\"the result is\", win(grid)[1]*number, \"with the grid\",grid) #If winning condition, bingo! we show the result\n",
    "                    test_continue = False\n",
    "                    break "
   ]
  }
 ],
 "metadata": {
  "interpreter": {
   "hash": "4700e6840e2fbc1fccbd4ae41e7869e5ffb8f4ca849982a3a12434fd36c3b02a"
  },
  "kernelspec": {
   "display_name": "Python 3.10.0 64-bit",
   "language": "python",
   "name": "python3"
  },
  "language_info": {
   "codemirror_mode": {
    "name": "ipython",
    "version": 3
   },
   "file_extension": ".py",
   "mimetype": "text/x-python",
   "name": "python",
   "nbconvert_exporter": "python",
   "pygments_lexer": "ipython3",
   "version": "3.10.0"
  },
  "orig_nbformat": 4
 },
 "nbformat": 4,
 "nbformat_minor": 2
}
